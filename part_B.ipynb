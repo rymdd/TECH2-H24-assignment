{
 "cells": [
  {
   "cell_type": "markdown",
   "metadata": {},
   "source": [
    "# TECH 2 mandatory assignment - Part B\n",
    "\n",
    "Write your solution for Part B in this notebook."
   ]
  },
  {
   "cell_type": "code",
   "execution_count": 1,
   "metadata": {},
   "outputs": [
    {
     "name": "stdout",
     "output_type": "stream",
     "text": [
      "All methods calculate the same standard deviation: True\n",
      "Standard deviation with loops:1.4142135623730951\n",
      "Standard deviation with built-in functions:1.4142135623730951\n",
      "Standard deviation with numpy:1.4142135623730951\n"
     ]
    }
   ],
   "source": [
    "import pandas as pd\n",
    "import numpy as np\n",
    "import timeit\n",
    "import matplotlib.pyplot as plt\n",
    "from part_A import std_builtin, std_numpy, std_loops\n",
    "\n",
    "# Read the csv file with pandas, but the first line is already data so name columns 0, 1, 2\n",
    "data = pd.read_csv('data.csv', header=None, names=[0, 1, 2])\n",
    "df = pd.DataFrame(data)\n",
    "\n",
    "\n",
    "# Calculate standard deviation of each column\n",
    "std_dev = df.std()\n",
    "\n",
    "# Seperate columns into 3 lists and remove NaN values\n",
    "nest = [df[i].tolist() for i in df.columns]\n",
    "\n",
    "# Handle NaN values for each column\n",
    "nest = [[x for x in i if str(x) != 'nan'] for i in nest]\n"
   ]
  },
  {
   "cell_type": "markdown",
   "metadata": {},
   "source": [
    "### Section A - List of 100 numbers"
   ]
  },
  {
   "cell_type": "code",
   "execution_count": 2,
   "metadata": {},
   "outputs": [
    {
     "name": "stdout",
     "output_type": "stream",
     "text": [
      "7.76 μs ± 249 ns per loop (mean ± std. dev. of 7 runs, 100,000 loops each)\n"
     ]
    }
   ],
   "source": [
    "# Time taken with loops\n",
    "%timeit std_loops(nest[0])"
   ]
  },
  {
   "cell_type": "code",
   "execution_count": 3,
   "metadata": {},
   "outputs": [
    {
     "name": "stdout",
     "output_type": "stream",
     "text": [
      "7.94 μs ± 152 ns per loop (mean ± std. dev. of 7 runs, 100,000 loops each)\n"
     ]
    }
   ],
   "source": [
    "# Time taken with builtin functions\n",
    "%timeit std_builtin(nest[0])"
   ]
  },
  {
   "cell_type": "code",
   "execution_count": 4,
   "metadata": {},
   "outputs": [
    {
     "name": "stdout",
     "output_type": "stream",
     "text": [
      "9.85 μs ± 885 ns per loop (mean ± std. dev. of 7 runs, 100,000 loops each)\n"
     ]
    }
   ],
   "source": [
    "# Time taken with numpy\n",
    "%timeit std_numpy(nest[0])"
   ]
  },
  {
   "cell_type": "markdown",
   "metadata": {},
   "source": [
    "### Section B - List of 1000 numbers"
   ]
  },
  {
   "cell_type": "code",
   "execution_count": 5,
   "metadata": {},
   "outputs": [
    {
     "name": "stdout",
     "output_type": "stream",
     "text": [
      "78.6 μs ± 1.58 μs per loop (mean ± std. dev. of 7 runs, 10,000 loops each)\n"
     ]
    }
   ],
   "source": [
    "# Time taken with loops\n",
    "%timeit std_loops(nest[1])"
   ]
  },
  {
   "cell_type": "code",
   "execution_count": 6,
   "metadata": {},
   "outputs": [
    {
     "name": "stdout",
     "output_type": "stream",
     "text": [
      "75.9 μs ± 2.79 μs per loop (mean ± std. dev. of 7 runs, 10,000 loops each)\n"
     ]
    }
   ],
   "source": [
    "# Time taken with builtin functions\n",
    "%timeit std_builtin(nest[1])"
   ]
  },
  {
   "cell_type": "code",
   "execution_count": 7,
   "metadata": {},
   "outputs": [
    {
     "name": "stdout",
     "output_type": "stream",
     "text": [
      "29 μs ± 307 ns per loop (mean ± std. dev. of 7 runs, 10,000 loops each)\n"
     ]
    }
   ],
   "source": [
    "# Time taken with numpy\n",
    "%timeit std_numpy(nest[1])"
   ]
  },
  {
   "cell_type": "markdown",
   "metadata": {},
   "source": [
    "### Section C - List of 10000 numbers"
   ]
  },
  {
   "cell_type": "code",
   "execution_count": 8,
   "metadata": {},
   "outputs": [
    {
     "name": "stdout",
     "output_type": "stream",
     "text": [
      "788 μs ± 3.98 μs per loop (mean ± std. dev. of 7 runs, 1,000 loops each)\n"
     ]
    }
   ],
   "source": [
    "# Time taken with loops\n",
    "%timeit std_loops(nest[2])"
   ]
  },
  {
   "cell_type": "code",
   "execution_count": 9,
   "metadata": {},
   "outputs": [
    {
     "name": "stdout",
     "output_type": "stream",
     "text": [
      "738 μs ± 14.9 μs per loop (mean ± std. dev. of 7 runs, 1,000 loops each)\n"
     ]
    }
   ],
   "source": [
    "# Time taken with builtin functions\n",
    "%timeit std_builtin(nest[2])"
   ]
  },
  {
   "cell_type": "code",
   "execution_count": 10,
   "metadata": {},
   "outputs": [
    {
     "name": "stdout",
     "output_type": "stream",
     "text": [
      "240 μs ± 16.1 μs per loop (mean ± std. dev. of 7 runs, 1,000 loops each)\n"
     ]
    }
   ],
   "source": [
    "# Time taken with numpy\n",
    "%timeit std_numpy(nest[2])"
   ]
  },
  {
   "cell_type": "markdown",
   "metadata": {},
   "source": [
    "# **Findings and summary**"
   ]
  },
  {
   "cell_type": "markdown",
   "metadata": {},
   "source": [
    "### 2.1 Hypothesis: numpy.std() will result in lower runtimes over longer arrays while offering little to benefits for small datasets\n",
    "While using built-in functions may result in slightly lower times over loops - using numpy will result in significantly lower times over long arrays due to optimisation principles and vectorisation compared to both other approaches."
   ]
  },
  {
   "cell_type": "code",
   "execution_count": 11,
   "metadata": {},
   "outputs": [],
   "source": [
    "# Measure runtimes and add into a dataframe\n",
    "runtime_data = pd.DataFrame(columns=['loops', 'builtin', 'numpy'])\n",
    "# Rows are the number of elements in the list\n",
    "runtime_data.loc['100'] = [timeit.timeit(lambda: std_loops(nest[0]), number=100), timeit.timeit(lambda: std_builtin(nest[0]), number=100), timeit.timeit(lambda: std_numpy(nest[0]), number=100)]\n",
    "runtime_data.loc['1000'] = [timeit.timeit(lambda: std_loops(nest[1]), number=100), timeit.timeit(lambda: std_builtin(nest[1]), number=100), timeit.timeit(lambda: std_numpy(nest[1]), number=100)]\n",
    "runtime_data.loc['10000'] = [timeit.timeit(lambda: std_loops(nest[2]), number=100), timeit.timeit(lambda: std_builtin(nest[2]), number=100), timeit.timeit(lambda: std_numpy(nest[2]), number=100)]"
   ]
  },
  {
   "cell_type": "markdown",
   "metadata": {},
   "source": [
    "#### 2.2 Visualising the data for each approach and array scale"
   ]
  },
  {
   "cell_type": "code",
   "execution_count": 12,
   "metadata": {},
   "outputs": [
    {
     "data": {
      "image/png": "[encoded data removed]",
      "text/plain": [
       "<Figure size 640x480 with 1 Axes>"
      ]
     },
     "metadata": {},
     "output_type": "display_data"
    }
   ],
   "source": [
    "# Plot the runtimes\n",
    "runtime_data.plot(kind='bar')\n",
    "plt.ylabel('Time (s)')\n",
    "plt.xlabel('Number of elements in list')\n",
    "plt.title('Runtime of standard deviation functions')\n",
    "plt.show()"
   ]
  },
  {
   "cell_type": "markdown",
   "metadata": {},
   "source": [
    "### 2.3 **Conclusion**\n",
    "##### The data shows that numpy will be significantly faster over large data samples while it might be outperformed by both other methods on small array lengths. Although numpy will outperform both approaches with vectorisation over large arrays the overhead time of initialisation will be larger than the gains from its optimised methods. Using python's built-in function are generally slightly faster than using only *for* loops.\n",
    "Therefore:\n",
    "- Use built-in functions for small datasets\n",
    "- Use numpy methods for mid- and large-sized datasets"
   ]
  }
 ],
 "metadata": {
  "kernelspec": {
   "display_name": "base",
   "language": "python",
   "name": "python3"
  },
  "language_info": {
   "codemirror_mode": {
    "name": "ipython",
    "version": 3
   },
   "file_extension": ".py",
   "mimetype": "text/x-python",
   "name": "python",
   "nbconvert_exporter": "python",
   "pygments_lexer": "ipython3",
   "version": "3.12.5"
  }
 },
 "nbformat": 4,
 "nbformat_minor": 2
}
